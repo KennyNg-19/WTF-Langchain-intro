{
  "cells": [
    {
      "cell_type": "markdown",
      "metadata": {
        "colab_type": "text",
        "id": "view-in-github"
      },
      "source": [
        "<a href=\"https://colab.research.google.com/github/sugarforever/wtf-langchain/blob/main/05_Output_Parsers/05_Output_Parsers.ipynb\" target=\"_parent\"><img src=\"https://colab.research.google.com/assets/colab-badge.svg\" alt=\"Open In Colab\"/></a>"
      ]
    },
    {
      "cell_type": "markdown",
      "metadata": {
        "id": "IkIusM-GD9MR"
      },
      "source": [
        "# 05 输出解析器\n",
        "\n",
        "LLM的输出为文本，但在程序中除了显示文本，可能希望获得更结构化的数据。这就是输出解析器（Output Parsers）的用武之地。"
      ]
    },
    {
      "cell_type": "code",
      "execution_count": 1,
      "metadata": {
        "colab": {
          "base_uri": "https://localhost:8080/"
        },
        "id": "Ceq3MMqkDutF",
        "outputId": "4c479341-e009-4997-cd66-f543d41df4e7"
      },
      "outputs": [
        {
          "name": "stdout",
          "output_type": "stream",
          "text": [
            "\n",
            "\u001b[1m[\u001b[0m\u001b[34;49mnotice\u001b[0m\u001b[1;39;49m]\u001b[0m\u001b[39;49m A new release of pip is available: \u001b[0m\u001b[31;49m23.3.1\u001b[0m\u001b[39;49m -> \u001b[0m\u001b[32;49m24.0\u001b[0m\n",
            "\u001b[1m[\u001b[0m\u001b[34;49mnotice\u001b[0m\u001b[1;39;49m]\u001b[0m\u001b[39;49m To update, run: \u001b[0m\u001b[32;49mpip install --upgrade pip\u001b[0m\n"
          ]
        }
      ],
      "source": [
        "!pip install -q langchain==0.1.0  openai"
      ]
    },
    {
      "cell_type": "code",
      "execution_count": 2,
      "metadata": {},
      "outputs": [
        {
          "data": {
            "text/plain": [
              "'0.1.0'"
            ]
          },
          "execution_count": 2,
          "metadata": {},
          "output_type": "execute_result"
        }
      ],
      "source": [
        "import langchain\n",
        "langchain.__version__"
      ]
    },
    {
      "cell_type": "markdown",
      "metadata": {
        "id": "-0vNCtPT4zC6"
      },
      "source": [
        "## List Parser\n",
        "\n",
        "List Parser将逗号分隔的文本解析为列表。"
      ]
    },
    {
      "cell_type": "code",
      "execution_count": 9,
      "metadata": {
        "colab": {
          "base_uri": "https://localhost:8080/"
        },
        "id": "CUQ6R0V740yX",
        "outputId": "0adbbd93-a090-4770-e17b-31d58e5c4766"
      },
      "outputs": [
        {
          "data": {
            "text/plain": [
              "['black', 'yellow', 'red', 'green', 'white', 'blue']"
            ]
          },
          "execution_count": 9,
          "metadata": {},
          "output_type": "execute_result"
        }
      ],
      "source": [
        "from langchain.output_parsers import CommaSeparatedListOutputParser\n",
        "\n",
        "output_parser = CommaSeparatedListOutputParser()\n",
        "output_parser.parse(\"black, yellow, red, green, white, blue\")"
      ]
    },
    {
      "cell_type": "markdown",
      "metadata": {
        "id": "KK4suFQr468t"
      },
      "source": [
        "## Structured Output Parser\n",
        "\n",
        "当我们想要类似JSON数据结构，包含多个字段时，可以使用这个输出解析器。该解析器可以生成指令帮助LLM返回结构化数据文本，同时完成文本到结构化数据的解析工作。"
      ]
    },
    {
      "cell_type": "code",
      "execution_count": 3,
      "metadata": {
        "colab": {
          "base_uri": "https://localhost:8080/",
          "height": 54
        },
        "id": "Ohc2qbl05A7s",
        "outputId": "87aa976c-f11e-4f78-a9af-698b8e96347a"
      },
      "outputs": [
        {
          "name": "stdout",
          "output_type": "stream",
          "text": [
            "The output should be a markdown code snippet formatted in the following schema, including the leading and trailing \"```json\" and \"```\":\n",
            "\n",
            "```json\n",
            "{\n",
            "\t\"answer\": string  // answer to the user's question\n",
            "\t\"source\": string  // source referred to answer the user's question, should be a website.\n",
            "}\n",
            "```\n"
          ]
        }
      ],
      "source": [
        "from langchain.output_parsers import StructuredOutputParser, ResponseSchema\n",
        "from langchain.prompts import PromptTemplate, ChatPromptTemplate, HumanMessagePromptTemplate\n",
        "from langchain.llms import OpenAI\n",
        "\n",
        "# 定义响应的结构(JSON)，两个字段 answer和source。\n",
        "response_schemas = [\n",
        "    ResponseSchema(name=\"answer\", description=\"answer to the user's question\"),\n",
        "    ResponseSchema(name=\"source\", description=\"source referred to answer the user's question, should be a website.\")\n",
        "]\n",
        "output_parser = StructuredOutputParser.from_response_schemas(response_schemas)\n",
        "\n",
        "# 获取响应格式化的指令\n",
        "format_instructions = output_parser.get_format_instructions()\n",
        "print(format_instructions)"
      ]
    },
    {
      "cell_type": "code",
      "execution_count": 6,
      "metadata": {
        "colab": {
          "base_uri": "https://localhost:8080/"
        },
        "id": "zxYWexu25Iuc",
        "outputId": "6886b6fa-feb5-4456-a9b6-554195a7d761"
      },
      "outputs": [
        {
          "name": "stdout",
          "output_type": "stream",
          "text": [
            "\n",
            "\n",
            "```json\n",
            "{\n",
            "\t\"answer\": \"Elon Musk\",\n",
            "\t\"source\": \"https://www.tesla.com/elon-musk\"\n",
            "}\n",
            "```\n"
          ]
        },
        {
          "data": {
            "text/plain": [
              "{'answer': 'Elon Musk', 'source': 'https://www.tesla.com/elon-musk'}"
            ]
          },
          "execution_count": 6,
          "metadata": {},
          "output_type": "execute_result"
        }
      ],
      "source": [
        "# partial_variables允许在代码中预填充提示此模版的部分变量。这类似于接口，抽象类之间的关系\n",
        "prompt = PromptTemplate(\n",
        "    template=\"answer the users question as best as possible.\\n{format_instructions}\\n{question}\",\n",
        "    input_variables=[\"question\"],\n",
        "    partial_variables={\"format_instructions\": format_instructions}\n",
        ")\n",
        "\n",
        "model = OpenAI(temperature=0)\n",
        "prompt = prompt.format_prompt(question=\"Who is the CEO of Tesla?\")\n",
        "output = model(prompt.to_string())\n",
        "\n",
        "print(output)\n",
        "\n",
        "output_parser.parse(output)"
      ]
    },
    {
      "cell_type": "markdown",
      "metadata": {
        "id": "7qYA8JPv6Pnz"
      },
      "source": [
        "## 自定义输出解析器\n",
        "\n",
        "扩展CommaSeparatedListOutputParser，让其返回的列表是经过排序的。"
      ]
    },
    {
      "cell_type": "code",
      "execution_count": 16,
      "metadata": {
        "colab": {
          "base_uri": "https://localhost:8080/"
        },
        "id": "6M-py_2C6beo",
        "outputId": "922875ac-c93e-4ee6-fad0-74c052bd0b68"
      },
      "outputs": [
        {
          "data": {
            "text/plain": [
              "['black', 'blue', 'green', 'red', 'white', 'yellow']"
            ]
          },
          "execution_count": 16,
          "metadata": {},
          "output_type": "execute_result"
        }
      ],
      "source": [
        "from typing import List\n",
        "class SortedCommaSeparatedListOutputParser(CommaSeparatedListOutputParser):\n",
        "  def parse(self, text: str) -> List[str]:\n",
        "    lst = super().parse(text)\n",
        "    return sorted(lst)\n",
        "\n",
        "output_parser = SortedCommaSeparatedListOutputParser()\n",
        "output_parser.parse(\"black, yellow, red, green, white, blue\")"
      ]
    }
  ],
  "metadata": {
    "colab": {
      "authorship_tag": "ABX9TyMUPkO2WTAkNP76DCPwLqi1",
      "include_colab_link": true,
      "provenance": []
    },
    "kernelspec": {
      "display_name": "Python 3",
      "name": "python3"
    },
    "language_info": {
      "codemirror_mode": {
        "name": "ipython",
        "version": 3
      },
      "file_extension": ".py",
      "mimetype": "text/x-python",
      "name": "python",
      "nbconvert_exporter": "python",
      "pygments_lexer": "ipython3",
      "version": "3.8.17"
    }
  },
  "nbformat": 4,
  "nbformat_minor": 0
}
