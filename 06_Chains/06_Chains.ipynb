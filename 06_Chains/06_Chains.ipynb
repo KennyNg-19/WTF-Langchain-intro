{
  "cells": [
    {
      "cell_type": "markdown",
      "metadata": {
        "colab_type": "text",
        "id": "view-in-github"
      },
      "source": [
        "<a href=\"https://colab.research.google.com/github/sugarforever/wtf-langchain/blob/main/06_Chains/06_Chains.ipynb\" target=\"_parent\"><img src=\"https://colab.research.google.com/assets/colab-badge.svg\" alt=\"Open In Colab\"/></a>"
      ]
    },
    {
      "cell_type": "code",
      "execution_count": 5,
      "metadata": {
        "colab": {
          "base_uri": "https://localhost:8080/"
        },
        "id": "xlgJ4rFm-CS6",
        "outputId": "34b4e603-900f-443c-e7cb-d91050575e29"
      },
      "outputs": [
        {
          "name": "stdout",
          "output_type": "stream",
          "text": [
            "\u001b[33mWARNING: Ignoring invalid distribution -ransformers (/Users/kennywu/opt/anaconda3/envs/dl/lib/python3.8/site-packages)\u001b[0m\u001b[33m\n",
            "\u001b[0m\u001b[33mWARNING: Ignoring invalid distribution -ransformers (/Users/kennywu/opt/anaconda3/envs/dl/lib/python3.8/site-packages)\u001b[0m\u001b[33m\n",
            "\u001b[0m\n",
            "\u001b[1m[\u001b[0m\u001b[34;49mnotice\u001b[0m\u001b[1;39;49m]\u001b[0m\u001b[39;49m A new release of pip is available: \u001b[0m\u001b[31;49m23.2.1\u001b[0m\u001b[39;49m -> \u001b[0m\u001b[32;49m24.0\u001b[0m\n",
            "\u001b[1m[\u001b[0m\u001b[34;49mnotice\u001b[0m\u001b[1;39;49m]\u001b[0m\u001b[39;49m To update, run: \u001b[0m\u001b[32;49mpip install --upgrade pip\u001b[0m\n"
          ]
        }
      ],
      "source": [
        "!pip install langchain openai --quiet\n"
      ]
    },
    {
      "cell_type": "code",
      "execution_count": 16,
      "metadata": {
        "id": "1ILWDRoJ-NmX"
      },
      "outputs": [],
      "source": [
        "from langchain.llms import OpenAI\n",
        "from langchain.prompts import PromptTemplate\n",
        "\n",
        "llm = OpenAI(temperature=0)\n",
        "prompt = PromptTemplate(\n",
        "    input_variables=[\"color\"],\n",
        "    template=\"What is the hex code of color {color}?\",\n",
        ")"
      ]
    },
    {
      "cell_type": "code",
      "execution_count": 2,
      "metadata": {
        "colab": {
          "base_uri": "https://localhost:8080/"
        },
        "id": "wPxzrJm230v0",
        "outputId": "e850bb26-1bd8-4826-d05c-0435f223a047"
      },
      "outputs": [],
      "source": [
        "from langchain.chains import LLMChain\n",
        "chain = LLMChain(llm=llm, prompt=prompt)"
      ]
    },
    {
      "cell_type": "code",
      "execution_count": 6,
      "metadata": {
        "colab": {
          "base_uri": "https://localhost:8080/"
        },
        "id": "9VmPzVQk4Flb",
        "outputId": "f5fce095-de2c-47c8-a051-b024e16a92da"
      },
      "outputs": [
        {
          "name": "stdout",
          "output_type": "stream",
          "text": [
            "\n",
            "\n",
            "The hex code for green is #00FF00.\n",
            "\n",
            "\n",
            "The hex code for cyan is #00FFFF.\n"
          ]
        }
      ],
      "source": [
        "print(chain.run(\"green\"))\n",
        "print(chain.run(\"cyan\"))\n",
        "# print(chain.run(\"magento\"))"
      ]
    },
    {
      "cell_type": "markdown",
      "metadata": {},
      "source": [
        "LangChainHub\n",
        "LangChainHub 收集并分享用于处理 LangChain 基本元素（提示词，链，和代理等）。\n",
        "\n",
        "本讲，我们介绍 LangChainHub 中分享的链的使用。\n",
        "\n"
      ]
    },
    {
      "cell_type": "markdown",
      "metadata": {},
      "source": [
        "从LangChainHub加载链\n",
        "本课以链LLM-Math为例，介绍如何从 LangChainHub 加载链并使用它。这是一个使用LLM和Python REPL来解决复杂数学问题的链。\n",
        "\n",
        "加载\n",
        "使用 load_chain 函数从hub加载。"
      ]
    },
    {
      "cell_type": "code",
      "execution_count": 17,
      "metadata": {
        "colab": {
          "base_uri": "https://localhost:8080/"
        },
        "id": "3DxFcpAn_Oy7",
        "outputId": "e2337345-c47f-4daf-83ca-6a52674a5476"
      },
      "outputs": [
        {
          "name": "stderr",
          "output_type": "stream",
          "text": [
            "/Users/kennywu/opt/anaconda3/envs/aigc/lib/python3.8/site-packages/langchain/chains/llm_math/base.py:57: UserWarning: Directly instantiating an LLMMathChain with an llm is deprecated. Please instantiate with llm_chain argument or using the from_llm class method.\n",
            "  warnings.warn(\n"
          ]
        }
      ],
      "source": [
        "from langchain.chains import load_chain\n",
        "import os\n",
        "\n",
        "chain = load_chain(\"lc://chains/llm-math/chain.json\")\n",
        "# chain"
      ]
    },
    {
      "cell_type": "code",
      "execution_count": null,
      "metadata": {
        "colab": {
          "base_uri": "https://localhost:8080/",
          "height": 147
        },
        "id": "LPsc-9ec_amC",
        "outputId": "cd246745-afda-4d06-bfe5-7f963ccec5ad"
      },
      "outputs": [],
      "source": [
        "chain.invoke(\"whats the area of a circle with radius 2?\")"
      ]
    }
  ],
  "metadata": {
    "colab": {
      "authorship_tag": "ABX9TyMjzTlk9UUE+H/AN/ASt+Te",
      "include_colab_link": true,
      "provenance": []
    },
    "kernelspec": {
      "display_name": "Python 3",
      "name": "python3"
    },
    "language_info": {
      "codemirror_mode": {
        "name": "ipython",
        "version": 3
      },
      "file_extension": ".py",
      "mimetype": "text/x-python",
      "name": "python",
      "nbconvert_exporter": "python",
      "pygments_lexer": "ipython3",
      "version": "3.8.17"
    }
  },
  "nbformat": 4,
  "nbformat_minor": 0
}
