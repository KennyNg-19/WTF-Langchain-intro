{
  "cells": [
    {
      "cell_type": "markdown",
      "metadata": {
        "colab_type": "text",
        "id": "view-in-github"
      },
      "source": [
        "<a href=\"https://colab.research.google.com/github/sugarforever/wtf-langchain/blob/main/09_Callbacks/09_Callbacks.ipynb\" target=\"_parent\"><img src=\"https://colab.research.google.com/assets/colab-badge.svg\" alt=\"Open In Colab\"/></a>"
      ]
    },
    {
      "cell_type": "markdown",
      "metadata": {
        "id": "GIUvp6uXWAcn"
      },
      "source": [
        "# LangChain Callback 示例"
      ]
    },
    {
      "cell_type": "markdown",
      "metadata": {
        "id": "h4Ps0wdmWFGh"
      },
      "source": [
        "## 准备环境"
      ]
    },
    {
      "cell_type": "markdown",
      "metadata": {
        "id": "E8OKcwR6VdHL"
      },
      "source": [
        "1. 安装langchain版本0.1.0 ，以及openai"
      ]
    },
    {
      "cell_type": "code",
      "execution_count": 1,
      "metadata": {
        "colab": {
          "base_uri": "https://localhost:8080/"
        },
        "id": "yDa7VdF9SlAm",
        "outputId": "bf91585d-8b22-4bd9-d3ab-111d991cbd9b"
      },
      "outputs": [
        {
          "name": "stdout",
          "output_type": "stream",
          "text": [
            "\n",
            "\u001b[1m[\u001b[0m\u001b[34;49mnotice\u001b[0m\u001b[1;39;49m]\u001b[0m\u001b[39;49m A new release of pip is available: \u001b[0m\u001b[31;49m23.3.1\u001b[0m\u001b[39;49m -> \u001b[0m\u001b[32;49m24.0\u001b[0m\n",
            "\u001b[1m[\u001b[0m\u001b[34;49mnotice\u001b[0m\u001b[1;39;49m]\u001b[0m\u001b[39;49m To update, run: \u001b[0m\u001b[32;49mpip install --upgrade pip\u001b[0m\n"
          ]
        }
      ],
      "source": [
        "!pip install -q -U langchain==0.1.0  openai"
      ]
    },
    {
      "cell_type": "markdown",
      "metadata": {
        "id": "N2-YYQa1s_jQ"
      },
      "source": [
        "2. 设置OPENAI API Key"
      ]
    },
    {
      "cell_type": "code",
      "execution_count": 2,
      "metadata": {
        "id": "OSGQIm6FtD8A"
      },
      "outputs": [],
      "source": [
        "# import os\n",
        "\n",
        "# os.environ['OPENAI_API_KEY'] = \"您的有效openai api key\""
      ]
    },
    {
      "cell_type": "markdown",
      "metadata": {
        "id": "i0wXx4wfWIjF"
      },
      "source": [
        "## 示例代码"
      ]
    },
    {
      "cell_type": "markdown",
      "metadata": {
        "id": "lEPqka5QWcph"
      },
      "source": [
        "1. 内置回调处理器 `StdOutCallbackHandler`"
      ]
    },
    {
      "cell_type": "code",
      "execution_count": 3,
      "metadata": {
        "colab": {
          "base_uri": "https://localhost:8080/",
          "height": 202
        },
        "id": "jhoNdmhQs1J3",
        "outputId": "3e110c89-750d-4f64-c0b9-8bc49bb24895"
      },
      "outputs": [
        {
          "name": "stderr",
          "output_type": "stream",
          "text": [
            "/Users/kennywu/opt/anaconda3/envs/aigc/lib/python3.8/site-packages/langchain_core/_api/deprecation.py:117: LangChainDeprecationWarning: The class `langchain_community.llms.openai.OpenAI` was deprecated in langchain-community 0.0.10 and will be removed in 0.2.0. An updated version of the class exists in the langchain-openai package and should be used instead. To use it run `pip install -U langchain-openai` and import as `from langchain_openai import OpenAI`.\n",
            "  warn_deprecated(\n",
            "/Users/kennywu/opt/anaconda3/envs/aigc/lib/python3.8/site-packages/langchain_core/_api/deprecation.py:117: LangChainDeprecationWarning: The function `run` was deprecated in LangChain 0.1.0 and will be removed in 0.2.0. Use invoke instead.\n",
            "  warn_deprecated(\n"
          ]
        },
        {
          "name": "stdout",
          "output_type": "stream",
          "text": [
            "\n",
            "\n",
            "\u001b[1m> Entering new LLMChain chain...\u001b[0m\n",
            "Prompt after formatting:\n",
            "\u001b[32;1m\u001b[1;3mWho is Super Mario?\u001b[0m\n",
            "\n",
            "\u001b[1m> Finished chain.\u001b[0m\n"
          ]
        },
        {
          "data": {
            "text/plain": [
              "'\\n\\nSuper Mario is a fictional character and the main protagonist of the popular video game franchise of the same name created by Nintendo. He is an Italian plumber who lives in the Mushroom Kingdom and goes on various adventures to rescue Princess Peach and save the kingdom from the evil Bowser. He is known for his iconic red hat, blue overalls, and mustache, and has become one of the most recognizable and beloved characters in the history of video games. '"
            ]
          },
          "execution_count": 3,
          "metadata": {},
          "output_type": "execute_result"
        }
      ],
      "source": [
        "from langchain.callbacks import StdOutCallbackHandler\n",
        "from langchain.chains import LLMChain\n",
        "from langchain.llms import OpenAI\n",
        "from langchain.prompts import PromptTemplate\n",
        "\n",
        "handler = StdOutCallbackHandler()\n",
        "llm = OpenAI()\n",
        "prompt = PromptTemplate.from_template(\"Who is {name}?\")\n",
        "chain = LLMChain(llm=llm, prompt=prompt, callbacks=[handler])\n",
        "chain.run(name=\"Super Mario\")"
      ]
    },
    {
      "cell_type": "markdown",
      "metadata": {
        "id": "NS9I0GYhs4Ny"
      },
      "source": [
        "2. 自定义回调处理器\n",
        "\n",
        "我们来实现一个处理器，统计每次 `LLM` 交互的处理时间。"
      ]
    },
    {
      "cell_type": "code",
      "execution_count": 4,
      "metadata": {
        "id": "WJQTUyrnwIf6"
      },
      "outputs": [],
      "source": [
        "from langchain.callbacks.base import BaseCallbackHandler\n",
        "import time\n",
        "\n",
        "class TimerHandler(BaseCallbackHandler):\n",
        "\n",
        "    def __init__(self) -> None:\n",
        "        super().__init__()\n",
        "        self.previous_ms = None\n",
        "        self.durations = []\n",
        "\n",
        "    def current_ms(self):\n",
        "        return int(time.time() * 1000 + time.perf_counter() % 1 * 1000)\n",
        "\n",
        "    def on_chain_start(self, serialized, inputs, **kwargs) -> None:\n",
        "        self.previous_ms = self.current_ms()\n",
        "\n",
        "    def on_chain_end(self, outputs, **kwargs) -> None:\n",
        "        if self.previous_ms:\n",
        "          duration = self.current_ms() - self.previous_ms\n",
        "          self.durations.append(duration)\n",
        "\n",
        "    def on_llm_start(self, serialized, prompts, **kwargs) -> None:\n",
        "        self.previous_ms = self.current_ms()\n",
        "\n",
        "    def on_llm_end(self, response, **kwargs) -> None:\n",
        "        if self.previous_ms:\n",
        "          duration = self.current_ms() - self.previous_ms\n",
        "          self.durations.append(duration)"
      ]
    },
    {
      "cell_type": "code",
      "execution_count": 6,
      "metadata": {
        "colab": {
          "base_uri": "https://localhost:8080/"
        },
        "id": "B7Y9E34VPObp",
        "outputId": "5d5f7945-8ad2-43ce-ce52-b6787ae61dac"
      },
      "outputs": [
        {
          "name": "stdout",
          "output_type": "stream",
          "text": [
            "\n",
            "\n",
            "The HEX code for the color blue is #0000FF.\n"
          ]
        },
        {
          "data": {
            "text/plain": [
              "[1048]"
            ]
          },
          "execution_count": 6,
          "metadata": {},
          "output_type": "execute_result"
        }
      ],
      "source": [
        "llm = OpenAI()\n",
        "timerHandler = TimerHandler()\n",
        "prompt = PromptTemplate.from_template(\"What is the HEX code of color {color_name}?\")\n",
        "chain = LLMChain(llm=llm, prompt=prompt, callbacks=[timerHandler])\n",
        "response = chain.run(color_name=\"blue\")\n",
        "print(response)\n",
        "# response = chain.run(color_name=\"purple\")\n",
        "# print(response)\n",
        "\n",
        "timerHandler.durations"
      ]
    },
    {
      "cell_type": "markdown",
      "metadata": {
        "id": "3U6j88miOHis"
      },
      "source": [
        "3. `Model` 与 `callbacks`\n",
        "\n",
        "`callbacks` 可以在构造函数中指定，也可以在执行期间的函数调用中指定。\n",
        "\n",
        "请参考如下代码："
      ]
    },
    {
      "cell_type": "code",
      "execution_count": 7,
      "metadata": {
        "colab": {
          "base_uri": "https://localhost:8080/"
        },
        "id": "Gh8e7GWzOOkT",
        "outputId": "2af5da44-5a0f-40b0-8e55-1c0643c9c4a8"
      },
      "outputs": [
        {
          "name": "stderr",
          "output_type": "stream",
          "text": [
            "/Users/kennywu/opt/anaconda3/envs/aigc/lib/python3.8/site-packages/langchain_core/_api/deprecation.py:117: LangChainDeprecationWarning: The function `predict` was deprecated in LangChain 0.1.7 and will be removed in 0.2.0. Use invoke instead.\n",
            "  warn_deprecated(\n"
          ]
        },
        {
          "name": "stdout",
          "output_type": "stream",
          "text": [
            "\n",
            "\n",
            "The HEX code for black is #000000.\n"
          ]
        },
        {
          "data": {
            "text/plain": [
              "[1282]"
            ]
          },
          "execution_count": 7,
          "metadata": {},
          "output_type": "execute_result"
        }
      ],
      "source": [
        "timerHandler = TimerHandler()\n",
        "llm = OpenAI(callbacks=[timerHandler])\n",
        "response = llm.predict(\"What is the HEX code of color BLACK?\")\n",
        "print(response)\n",
        "\n",
        "timerHandler.durations"
      ]
    },
    {
      "cell_type": "code",
      "execution_count": 8,
      "metadata": {
        "colab": {
          "base_uri": "https://localhost:8080/"
        },
        "id": "Wm94hadJR1a2",
        "outputId": "00e4053b-0006-40f9-9c1a-d6ae1afef3c6"
      },
      "outputs": [
        {
          "name": "stdout",
          "output_type": "stream",
          "text": [
            "\n",
            "\n",
            "The HEX code for black is #000000.\n"
          ]
        },
        {
          "data": {
            "text/plain": [
              "[22215]"
            ]
          },
          "execution_count": 8,
          "metadata": {},
          "output_type": "execute_result"
        }
      ],
      "source": [
        "timerHandler = TimerHandler()\n",
        "llm = OpenAI()\n",
        "response = llm.predict(\"What is the HEX code of color BLACK?\", callbacks=[timerHandler])\n",
        "print(response)\n",
        "\n",
        "timerHandler.durations"
      ]
    }
  ],
  "metadata": {
    "colab": {
      "authorship_tag": "ABX9TyMDQAGwDnmThXqSHdNwTwvq",
      "include_colab_link": true,
      "provenance": []
    },
    "kernelspec": {
      "display_name": "Python 3",
      "name": "python3"
    },
    "language_info": {
      "codemirror_mode": {
        "name": "ipython",
        "version": 3
      },
      "file_extension": ".py",
      "mimetype": "text/x-python",
      "name": "python",
      "nbconvert_exporter": "python",
      "pygments_lexer": "ipython3",
      "version": "3.8.17"
    }
  },
  "nbformat": 4,
  "nbformat_minor": 0
}
