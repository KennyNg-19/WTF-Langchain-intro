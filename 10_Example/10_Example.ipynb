{
  "cells": [
    {
      "cell_type": "markdown",
      "metadata": {
        "colab_type": "text",
        "id": "view-in-github"
      },
      "source": [
        "<a href=\"https://colab.research.google.com/github/sugarforever/wtf-langchain/blob/main/10_Example/10_Example.ipynb\" target=\"_parent\"><img src=\"https://colab.research.google.com/assets/colab-badge.svg\" alt=\"Open In Colab\"/></a>"
      ]
    },
    {
      "cell_type": "markdown",
      "metadata": {
        "id": "69PRFT6WO-oK"
      },
      "source": [
        "# 一个完整的例子\n",
        "\n",
        "这是该 `LangChain` 极简入门系列的最后一讲。我们将利用过去9讲学习的知识，来完成一个具备完整功能集的LLM应用。该应用基于 `LangChain` 框架，以某 `PDF` 文件的内容为知识库，提供给用户基于该文件内容的问答能力。\n",
        "\n",
        "我们利用 `LangChain` 的QA chain，结合 `Chroma` 来实现PDF文档的语义化搜索。示例代码所引用的是[AWS Serverless\n",
        "Developer Guide](https://docs.aws.amazon.com/pdfs/serverless/latest/devguide/serverless-core.pdf)，该PDF文档共84页。"
      ]
    },
    {
      "cell_type": "markdown",
      "metadata": {
        "id": "OBehQYkOPPWe"
      },
      "source": [
        "1. 安装必要的 `Python` 包"
      ]
    },
    {
      "cell_type": "code",
      "execution_count": 1,
      "metadata": {
        "colab": {
          "base_uri": "https://localhost:8080/"
        },
        "id": "_amYPxT-PULc",
        "outputId": "d3d7515d-b214-4140-b39b-a9a209cf00b9"
      },
      "outputs": [
        {
          "name": "stdout",
          "output_type": "stream",
          "text": [
            "\n",
            "\u001b[1m[\u001b[0m\u001b[34;49mnotice\u001b[0m\u001b[1;39;49m]\u001b[0m\u001b[39;49m A new release of pip is available: \u001b[0m\u001b[31;49m23.3.1\u001b[0m\u001b[39;49m -> \u001b[0m\u001b[32;49m24.0\u001b[0m\n",
            "\u001b[1m[\u001b[0m\u001b[34;49mnotice\u001b[0m\u001b[1;39;49m]\u001b[0m\u001b[39;49m To update, run: \u001b[0m\u001b[32;49mpip install --upgrade pip\u001b[0m\n"
          ]
        }
      ],
      "source": [
        "!pip install -q langchain==0.1.0  openai chromadb pymupdf tiktoken"
      ]
    },
    {
      "cell_type": "markdown",
      "metadata": {
        "id": "8Hihrnw_PeIA"
      },
      "source": [
        "2. 设置OpenAI环境"
      ]
    },
    {
      "cell_type": "code",
      "execution_count": 2,
      "metadata": {
        "id": "dALQoneUPgEH"
      },
      "outputs": [],
      "source": [
        "import os\n",
        "# os.environ['OPENAI_API_KEY'] = ''"
      ]
    },
    {
      "cell_type": "markdown",
      "metadata": {
        "id": "8aB0OBRFP5FC"
      },
      "source": [
        "3. 下载PDF文件AWS Serverless Developer Guide"
      ]
    },
    {
      "cell_type": "code",
      "execution_count": 3,
      "metadata": {
        "colab": {
          "base_uri": "https://localhost:8080/"
        },
        "id": "zF-PFO9BP6wr",
        "outputId": "1d761def-1df0-4043-f00e-be6dd913f1b2"
      },
      "outputs": [
        {
          "name": "stdout",
          "output_type": "stream",
          "text": [
            "--2024-03-30 11:25:33--  https://docs.aws.amazon.com/pdfs/serverless/latest/devguide/serverless-core.pdf\n",
            "正在解析主机 docs.aws.amazon.com (docs.aws.amazon.com)... "
          ]
        },
        {
          "name": "stdout",
          "output_type": "stream",
          "text": [
            "18.154.132.72, 18.154.132.52, 18.154.132.103, ...\n",
            "正在连接 docs.aws.amazon.com (docs.aws.amazon.com)|18.154.132.72|:443... 已连接。\n",
            "已发出 HTTP 请求，正在等待回应... 200 OK\n",
            "长度：4829940 (4.6M) [application/pdf]\n",
            "正在保存至: “serverless-core.pdf.2”\n",
            "\n",
            "serverless-core.pdf 100%[===================>]   4.61M  3.42MB/s  用时 1.3s      \n",
            "\n",
            "2024-03-30 11:25:37 (3.42 MB/s) - 已保存 “serverless-core.pdf.2” [4829940/4829940])\n",
            "\n"
          ]
        }
      ],
      "source": [
        "!wget https://docs.aws.amazon.com/pdfs/serverless/latest/devguide/serverless-core.pdf\n",
        "\n",
        "PDF_NAME = 'serverless-core.pdf'"
      ]
    },
    {
      "cell_type": "markdown",
      "metadata": {
        "id": "WqBDCt0HQFAA"
      },
      "source": [
        "4. 加载PDF文件"
      ]
    },
    {
      "cell_type": "code",
      "execution_count": 4,
      "metadata": {
        "colab": {
          "base_uri": "https://localhost:8080/"
        },
        "id": "bniPzdhUQSlw",
        "outputId": "01342468-bef4-4e9f-9b56-1ab6eac65ab4"
      },
      "outputs": [
        {
          "name": "stdout",
          "output_type": "stream",
          "text": [
            "There are 113 document(s) in serverless-core.pdf.\n",
            "There are 112 characters in the first page of your document.\n"
          ]
        }
      ],
      "source": [
        "from langchain.document_loaders import PyMuPDFLoader\n",
        "docs = PyMuPDFLoader(PDF_NAME).load()\n",
        "\n",
        "print (f'There are {len(docs)} document(s) in {PDF_NAME}.')\n",
        "print (f'There are {len(docs[0].page_content)} characters in the first page of your document.')"
      ]
    },
    {
      "cell_type": "markdown",
      "metadata": {
        "id": "V9kvXY9uQ1mI"
      },
      "source": [
        "5. 拆分文档并存储文本嵌入的向量数据"
      ]
    },
    {
      "cell_type": "code",
      "execution_count": 5,
      "metadata": {
        "id": "G4d8cwQTQ2fa"
      },
      "outputs": [
        {
          "name": "stderr",
          "output_type": "stream",
          "text": [
            "/Users/kennywu/opt/anaconda3/envs/aigc/lib/python3.8/site-packages/langchain_core/_api/deprecation.py:117: LangChainDeprecationWarning: The class `langchain_community.embeddings.openai.OpenAIEmbeddings` was deprecated in langchain-community 0.1.0 and will be removed in 0.2.0. An updated version of the class exists in the langchain-openai package and should be used instead. To use it run `pip install -U langchain-openai` and import as `from langchain_openai import OpenAIEmbeddings`.\n",
            "  warn_deprecated(\n"
          ]
        }
      ],
      "source": [
        "from langchain.embeddings.openai import OpenAIEmbeddings\n",
        "from langchain.text_splitter import RecursiveCharacterTextSplitter\n",
        "from langchain.vectorstores import Chroma\n",
        "\n",
        "text_splitter = RecursiveCharacterTextSplitter(chunk_size=1000, chunk_overlap=200)\n",
        "split_docs = text_splitter.split_documents(docs)\n",
        "\n",
        "embeddings = OpenAIEmbeddings()\n",
        "\n",
        "vectorstore = Chroma.from_documents(split_docs, embeddings, collection_name=\"serverless_guide\")"
      ]
    },
    {
      "cell_type": "markdown",
      "metadata": {
        "id": "-T6_mIR8RwEF"
      },
      "source": [
        "6. 基于OpenAI创建QA链"
      ]
    },
    {
      "cell_type": "code",
      "execution_count": 7,
      "metadata": {
        "id": "BsW99LnUR2Ns"
      },
      "outputs": [
        {
          "name": "stderr",
          "output_type": "stream",
          "text": [
            "/Users/kennywu/opt/anaconda3/envs/aigc/lib/python3.8/site-packages/langchain_core/_api/deprecation.py:117: LangChainDeprecationWarning: The class `langchain_community.llms.openai.OpenAI` was deprecated in langchain-community 0.0.10 and will be removed in 0.2.0. An updated version of the class exists in the langchain-openai package and should be used instead. To use it run `pip install -U langchain-openai` and import as `from langchain_openai import OpenAI`.\n",
            "  warn_deprecated(\n"
          ]
        }
      ],
      "source": [
        "from langchain.llms import OpenAI\n",
        "from langchain.chains.question_answering import load_qa_chain\n",
        "\n",
        "llm = OpenAI(temperature=0)\n",
        "chain = load_qa_chain(llm, chain_type=\"stuff\")"
      ]
    },
    {
      "cell_type": "markdown",
      "metadata": {
        "id": "ED54hPgfSXYL"
      },
      "source": [
        "7. 基于提问，进行相似性查询"
      ]
    },
    {
      "cell_type": "code",
      "execution_count": 9,
      "metadata": {
        "id": "bPmKM4zXSam9"
      },
      "outputs": [],
      "source": [
        "query = \"What is the use case of AWS Serverless?\"\n",
        "similar_docs = vectorstore.similarity_search(query, 3, )"
      ]
    },
    {
      "cell_type": "code",
      "execution_count": 10,
      "metadata": {
        "colab": {
          "base_uri": "https://localhost:8080/"
        },
        "id": "DNog2ekVSxPa",
        "outputId": "78bf8f0c-bdf2-4b9c-8a08-433c7706b758"
      },
      "outputs": [
        {
          "data": {
            "text/plain": [
              "[Document(page_content='Serverless\\nDeveloper Guide\\n• Mobile applications – Suppose you have a custom mobile application that produces events. \\nYou can create a Lambda function to process events published by your custom application. For \\nexample, you can conﬁgure a Lambda function to process the clicks within your custom mobile \\napplication.\\nServices you’ll likely use:\\n• AWS Lambda for compute processing tasks\\n• Amazon API Gateway for connecting and scaling inbound requests\\n• AWS Step Functions for managing and orchestrating microservice workﬂows\\n• Amazon DynamoDB & S3 for storing and retrieving data and ﬁles\\n• Amazon Cognito for authentication and authorization of users\\nStreaming\\nStreaming data allows you to gather analytical insights and act upon them, but also presents a \\nunique set of design and architectural challenges.\\nLambda and Amazon Kinesis can process real-time streaming data for application activity tracking,', metadata={'author': 'AWS', 'creationDate': 'D:20240329070703Z', 'creator': 'ZonBook XSL Stylesheets with Apache FOP', 'file_path': 'serverless-core.pdf', 'format': 'PDF 1.4', 'keywords': 'Serverless, serverless guide, getting started serverless, event-driven architecture, Lambda, API Gateway, DynamoDB, serverless, developer, guide, learn serverless, serverless, use-case, serverless, prerequisites, serverless, serverless, fundamentals, even-driven, architecture, serverless, fundamentals, serverless, developer_experience, lifecycle, deploy, packaging, serverless, hands-on, tutorial, workshop, next steps, security, serverless, compute, api, gateway, serverless, database, nosql', 'modDate': '', 'page': 11, 'producer': 'Apache FOP Version 2.6', 'source': 'serverless-core.pdf', 'subject': '', 'title': 'Serverless - Developer Guide', 'total_pages': 113, 'trapped': ''}),\n",
              " Document(page_content='Serverless\\nDeveloper Guide\\n• Image identiﬁcation — In the previous photo sharing application concept, imagine you want to \\nprovide automatic categorization of images for your users. Images will be queued for processing \\nby Amazon Rekognition. After analysis, faces are detected and your app can use similarity scores \\nto group photos by family members. Objects, scenes, activities, landmarks, and dominant colors \\nare detected and labels are applied to improve categorization and search.\\nServices you’ll likely use:\\n• AWS Lambda for compute processing tasks\\n• AWS Step Functions for managing and orchestrating microservice workﬂows\\n• Amazon Simple Notiﬁcation Service - for message delivery from publishers to subscribers, \\nplus fan out which is when a message published to a topic is replicated and pushed to multiple \\nendpoints for parallel asynchronous processing\\n• Amazon Simple Queue Service - for creating secure, durable, and available queues for \\nasynchronous processing', metadata={'author': 'AWS', 'creationDate': 'D:20240329070703Z', 'creator': 'ZonBook XSL Stylesheets with Apache FOP', 'file_path': 'serverless-core.pdf', 'format': 'PDF 1.4', 'keywords': 'Serverless, serverless guide, getting started serverless, event-driven architecture, Lambda, API Gateway, DynamoDB, serverless, developer, guide, learn serverless, serverless, use-case, serverless, prerequisites, serverless, serverless, fundamentals, even-driven, architecture, serverless, fundamentals, serverless, developer_experience, lifecycle, deploy, packaging, serverless, hands-on, tutorial, workshop, next steps, security, serverless, compute, api, gateway, serverless, database, nosql', 'modDate': '', 'page': 10, 'producer': 'Apache FOP Version 2.6', 'source': 'serverless-core.pdf', 'subject': '', 'title': 'Serverless - Developer Guide', 'total_pages': 113, 'trapped': ''}),\n",
              " Document(page_content='Serverless\\nDeveloper Guide\\nCompute\\n• AWS Lambda - serverless compute functions; responsible for nearly all processing in serverless \\nprojects\\n• Amazon Elastic Compute Cloud - non-serverless compute alternative; useful when you need \\nalways-on and fully customizable capabilities. EC2 is often used for initial “lift and shift” \\nmigration to the cloud. You can continue to use EC2 while migrating portions of your workﬂow \\nto serverless patterns.\\n• AWS App Runner - fully managed service to deploy your containerized web applications and \\nAPIs. App Runner will scale compute instances and network resources automatically based on \\nincoming traﬃc.\\n• AWS Fargate - serverless computer for clusters of containers; useful when you need custom \\ncontainers but do not want to maintain and manage the infrastructure or cluster.\\nSecurity, Identity & Compliance\\n• IAM - identity and access management; provides policies to authorize service resources to \\ninteract with each other and your data.', metadata={'author': 'AWS', 'creationDate': 'D:20240329070703Z', 'creator': 'ZonBook XSL Stylesheets with Apache FOP', 'file_path': 'serverless-core.pdf', 'format': 'PDF 1.4', 'keywords': 'Serverless, serverless guide, getting started serverless, event-driven architecture, Lambda, API Gateway, DynamoDB, serverless, developer, guide, learn serverless, serverless, use-case, serverless, prerequisites, serverless, serverless, fundamentals, even-driven, architecture, serverless, fundamentals, serverless, developer_experience, lifecycle, deploy, packaging, serverless, hands-on, tutorial, workshop, next steps, security, serverless, compute, api, gateway, serverless, database, nosql', 'modDate': '', 'page': 39, 'producer': 'Apache FOP Version 2.6', 'source': 'serverless-core.pdf', 'subject': '', 'title': 'Serverless - Developer Guide', 'total_pages': 113, 'trapped': ''})]"
            ]
          },
          "execution_count": 10,
          "metadata": {},
          "output_type": "execute_result"
        }
      ],
      "source": [
        "similar_docs"
      ]
    },
    {
      "cell_type": "markdown",
      "metadata": {
        "id": "1XecjykTSnve"
      },
      "source": [
        "8. 基于相关文档，利用QA链完成回答"
      ]
    },
    {
      "cell_type": "code",
      "execution_count": 11,
      "metadata": {
        "colab": {
          "base_uri": "https://localhost:8080/",
          "height": 54
        },
        "id": "E4YOeM8aSuEY",
        "outputId": "14ccdea1-f586-45cf-bf4c-cce99322739c"
      },
      "outputs": [
        {
          "name": "stderr",
          "output_type": "stream",
          "text": [
            "/Users/kennywu/opt/anaconda3/envs/aigc/lib/python3.8/site-packages/langchain_core/_api/deprecation.py:117: LangChainDeprecationWarning: The function `run` was deprecated in LangChain 0.1.0 and will be removed in 0.2.0. Use invoke instead.\n",
            "  warn_deprecated(\n"
          ]
        },
        {
          "data": {
            "text/plain": [
              "' The use case of AWS Serverless is to provide a platform for developers to build and deploy applications without having to manage servers or infrastructure. This allows for more efficient and cost-effective development and scaling of applications.'"
            ]
          },
          "execution_count": 11,
          "metadata": {},
          "output_type": "execute_result"
        }
      ],
      "source": [
        "chain.run(input_documents=similar_docs, question=query)"
      ]
    }
  ],
  "metadata": {
    "colab": {
      "authorship_tag": "ABX9TyNqlLD/LEX3MZ6Uw13WCE8x",
      "include_colab_link": true,
      "provenance": []
    },
    "kernelspec": {
      "display_name": "Python 3",
      "name": "python3"
    },
    "language_info": {
      "codemirror_mode": {
        "name": "ipython",
        "version": 3
      },
      "file_extension": ".py",
      "mimetype": "text/x-python",
      "name": "python",
      "nbconvert_exporter": "python",
      "pygments_lexer": "ipython3",
      "version": "3.8.17"
    }
  },
  "nbformat": 4,
  "nbformat_minor": 0
}
